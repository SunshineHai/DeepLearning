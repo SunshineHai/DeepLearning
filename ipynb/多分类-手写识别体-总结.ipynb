{
 "cells": [
  {
   "cell_type": "markdown",
   "id": "d935d5f7",
   "metadata": {},
   "source": [
    "\n",
    "# 神经网实现      手写识别体的多分类\n",
    "\n",
    "\n",
    "## 数据集的下载\n",
    "\n",
    "使用以下git命令克隆：\n",
    "\n",
    "\n",
    "```\n",
    "git clone https://github.com/mnielsen/neural-networks-and-deep-learning.git\n",
    "```\n",
    "\n",
    "该数据集分为：\n",
    "\n",
    "- 60000 幅训练图像\n",
    "- 10000 幅测试图像\n",
    "\n",
    "我们把 60000幅训练图像再划分为：\n",
    "- 50000 幅训练集\n",
    "- 10000 幅验证集\n",
    "\n",
    "使用验证集有助于我们设置神经网络的某些**超参数**，例如学习率（lr）等。\n"
   ]
  },
  {
   "cell_type": "markdown",
   "id": "735d06d2",
   "metadata": {},
   "source": [
    "### 定义神经网络代码的核心片段"
   ]
  },
  {
   "cell_type": "markdown",
   "id": "e5d44c8a",
   "metadata": {},
   "source": [
    "假如定义最简单的3层神经网络，```sizes = [2, 3, 1]```,则：\n",
    "\n",
    "偏置的维度：(3, 1) <br/>\n",
    "权重的维度：(3, 2), (1, 3)\n",
    "\n",
    "以下定义的 类 Network 中的偏置bias 和权重weights 都是随机变化的，值为0~1之间的正态分布数。\n",
    "\n",
    "假如我们实例化对象：\n",
    "```python\n",
    "    net = Network()\n",
    "```\n",
    "\n",
    "**注：**\n",
    "-  np.random.randn() 生成的是均值为0，标准差为1的高斯分布(正态分布)。\n",
    "-  第一层神经元是一个输入层，不对其设置任何偏置，因为偏置在后面的层中用于计算输出。\n",
    "-  偏置和矩阵以 NumPy 矩阵列表的形式存储。例如：net.weights[1] : 第2层和第3层神经元之间的权重。\n",
    "\n",
    "我们使用 $ \\omega $ 表示矩阵， $ \\omega_{jk} $ 表示第2层的k个神经元，第3层的j个神经元的权重。\n",
    "\n",
    "这样写有点绕，目的是为了计算 权重 和 输入层变量进行 点乘，即：\n",
    "\n",
    "$$\n",
    "    a^{\\prime} = \\sigma(\\omega \\cdot a + b)\n",
    "$$\n",
    "\n",
    "以上例子， $\\omega$ 是 第2、3层的权重激活向量， a 是第二次神经元的**激活向量**(可以理解为权重\\*输入+偏置之后经过激活函数)，\n",
    "\n",
    "$ \\sigma() $ 函数是 **激活函数**sigmoid函数，定义如下：\n",
    "\n",
    "$$\n",
    "    sigmoid = \\frac{1}{1+e^{-x}} \n",
    "$$"
   ]
  },
  {
   "cell_type": "code",
   "execution_count": 43,
   "id": "822e068f",
   "metadata": {},
   "outputs": [
    {
     "data": {
      "image/png": "[encoded data removed]",
      "text/plain": [
       "<Figure size 432x288 with 1 Axes>"
      ]
     },
     "metadata": {
      "needs_background": "light"
     },
     "output_type": "display_data"
    }
   ],
   "source": [
    "import numpy as np\n",
    "import matplotlib.pyplot as plt\n",
    "\n",
    "def sigmoid(x):\n",
    "    return 1.0/(1.0+np.exp(-x))  \n",
    "\n",
    "x = np.arange(-10, 10, 0.1)\n",
    "y = sigmoid(x)\n",
    "plt.plot(x, y)\n",
    "plt.show()\n"
   ]
  },
  {
   "cell_type": "code",
   "execution_count": 12,
   "id": "eefd00ad",
   "metadata": {},
   "outputs": [
    {
     "data": {
      "text/plain": [
       "<__main__.Network at 0x1f6205489a0>"
      ]
     },
     "execution_count": 12,
     "metadata": {},
     "output_type": "execute_result"
    }
   ],
   "source": [
    "import numpy as np\n",
    "import pandas as pd\n",
    "\n",
    "class Network(object):\n",
    "    '''\n",
    "        sizes ： 各层神经元的个数\n",
    "    '''\n",
    "    def __init__(self, sizes:list):\n",
    "        \n",
    "        self.num_layers = len(sizes)                                 # 神经元的层数\n",
    "        self.biases = [np.random.randn(y, 1) for y in sizes[1:]]      # 偏置 b\n",
    "        self.weights = [np.random.randn(y, x) for x, y in zip(sizes[:-1], sizes[1:])]\n",
    "    pass\n",
    "\n",
    "Network([2, 3, 1])"
   ]
  },
  {
   "cell_type": "code",
   "execution_count": 161,
   "id": "775d61cd",
   "metadata": {},
   "outputs": [
    {
     "data": {
      "text/plain": [
       "[array([[0.18432784],\n",
       "        [0.82520967],\n",
       "        [0.60771146]]),\n",
       " array([[0.85903724]])]"
      ]
     },
     "execution_count": 161,
     "metadata": {},
     "output_type": "execute_result"
    }
   ],
   "source": [
    "sizes = [2, 3, 1]\n",
    "biases = [np.random.randn(y, 1) for y in sizes[1:]]\n",
    "biases   # 偏置"
   ]
  },
  {
   "cell_type": "code",
   "execution_count": 162,
   "id": "a75bcde4",
   "metadata": {},
   "outputs": [
    {
     "data": {
      "text/plain": [
       "[array([[ 1.22696517, -0.1890644 ],\n",
       "        [ 0.6620969 , -1.05068215],\n",
       "        [-0.07214618, -0.00129603]]),\n",
       " array([[-0.48003099, -0.11764437,  1.63769586]])]"
      ]
     },
     "execution_count": 162,
     "metadata": {},
     "output_type": "execute_result"
    }
   ],
   "source": [
    "weights = [np.random.randn(y, x) for x, y in zip(sizes[:-1], sizes[1:])] # 权重\n",
    "weights"
   ]
  },
  {
   "cell_type": "code",
   "execution_count": 163,
   "id": "b85fdb25",
   "metadata": {},
   "outputs": [
    {
     "data": {
      "text/plain": [
       "[array([[0.],\n",
       "        [0.],\n",
       "        [0.]]),\n",
       " array([[0.]])]"
      ]
     },
     "execution_count": 163,
     "metadata": {},
     "output_type": "execute_result"
    }
   ],
   "source": [
    "[np.zeros(b.shape) for b in biases]"
   ]
  },
  {
   "cell_type": "markdown",
   "id": "ebfdd4e8",
   "metadata": {},
   "source": [
    "### 前向传播\n",
    "\n",
    "该方法和我上一个博文中mnist的多分类预测中，写的 query() 是相同的功能实现。\n",
    "\n"
   ]
  },
  {
   "cell_type": "code",
   "execution_count": 49,
   "id": "161b7897",
   "metadata": {},
   "outputs": [],
   "source": [
    "def feedforward(self, a):\n",
    "    \"\"\"若 a 为输入，则返回输出\n",
    "        注：a 为 上一个节点的激活输出，如果为第一个节点，则是输入层的神经元个数，维度为 (n_variable, 1) 的NumPy ndarray数组，而不是\n",
    "        (n_variable,)的向量，这样写的目的是便于计算机计算，也便于修改代码实现同时前馈多个输入。\n",
    "        并且，CPU 一次只传入一个样本进行训练，右边的 1 代表一个样本。\n",
    "        \n",
    "    \"\"\"\n",
    "    for b, w in zip(self.biases, self.weights):\n",
    "        a = sigmoid(np.dot(w, a) + self.biases)  # y = w*x+b\n",
    "    return a"
   ]
  },
  {
   "cell_type": "markdown",
   "id": "4085da5e",
   "metadata": {},
   "source": [
    "### 梯度下降算法\n",
    "\n",
    "\n",
    "#### 随机梯度下降算法\n",
    "\n",
    "这里我们使用**随机梯度下降算法**"
   ]
  },
  {
   "cell_type": "code",
   "execution_count": null,
   "id": "cac47259",
   "metadata": {},
   "outputs": [],
   "source": [
    "def SGD(self， )："
   ]
  },
  {
   "cell_type": "code",
   "execution_count": 159,
   "id": "36e961fb",
   "metadata": {},
   "outputs": [
    {
     "data": {
      "text/plain": [
       "array([0, 1, 2, 3, 4, 5])"
      ]
     },
     "execution_count": 159,
     "metadata": {},
     "output_type": "execute_result"
    }
   ],
   "source": [
    "import random\n",
    "\n",
    "training_data = np.arange(6).reshape(6,)\n",
    "training_data"
   ]
  },
  {
   "cell_type": "code",
   "execution_count": 160,
   "id": "0ff57d19",
   "metadata": {},
   "outputs": [
    {
     "data": {
      "text/plain": [
       "array([2, 0, 5, 3, 1, 4])"
      ]
     },
     "execution_count": 160,
     "metadata": {},
     "output_type": "execute_result"
    }
   ],
   "source": [
    "random.shuffle(training_data)\n",
    "training_data"
   ]
  },
  {
   "cell_type": "code",
   "execution_count": 158,
   "id": "26136ac1",
   "metadata": {},
   "outputs": [
    {
     "data": {
      "text/plain": [
       "[2, 1, 5, 4, 3]"
      ]
     },
     "execution_count": 158,
     "metadata": {},
     "output_type": "execute_result"
    }
   ],
   "source": [
    "seq = [1, 2, 3, 4, 5]\n",
    "random.shuffle(seq)\n",
    "seq"
   ]
  }
 ],
 "metadata": {
  "kernelspec": {
   "display_name": "Python 3",
   "language": "python",
   "name": "python3"
  },
  "language_info": {
   "codemirror_mode": {
    "name": "ipython",
    "version": 3
   },
   "file_extension": ".py",
   "mimetype": "text/x-python",
   "name": "python",
   "nbconvert_exporter": "python",
   "pygments_lexer": "ipython3",
   "version": "3.8.8"
  }
 },
 "nbformat": 4,
 "nbformat_minor": 5
}
